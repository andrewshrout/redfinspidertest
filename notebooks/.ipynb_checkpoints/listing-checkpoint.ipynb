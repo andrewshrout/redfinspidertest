{
 "cells": [
  {
   "cell_type": "code",
   "execution_count": 1,
   "id": "serial-truth",
   "metadata": {
    "tags": []
   },
   "outputs": [],
   "source": [
    "import requests\n",
    "from parsel import Selector\n",
    "\n",
    "\n",
    "headers = {\n",
    "    'User-agent': 'Mozilla/5.0 (Windows NT 10.0; Win64; x64; rv:86.0) Gecko/20100101 Firefox/86.0'\n",
    "}\n",
    "response = requests.get('https://www.redfin.com/GA/Atlanta/8-Normandy-Ct-30324/home/24729436', headers=headers)\n",
    "selector = Selector(response.text)"
   ]
  },
  {
   "cell_type": "code",
   "execution_count": 2,
   "id": "treated-wagon",
   "metadata": {},
   "outputs": [
    {
     "data": {
      "text/plain": [
       "{'locality': 'Atlanta',\n",
       " 'postal_code': '30324',\n",
       " 'region': 'GA',\n",
       " 'street': '8 Normandy Ct '}"
      ]
     },
     "execution_count": 2,
     "metadata": {},
     "output_type": "execute_result"
    }
   ],
   "source": [
    "address = selector.xpath('//span[@data-rf-test-id=\"abp-homeinfo-homeaddress\"]')\n",
    "r = {\n",
    "    'locality': address.xpath('.//span/span[@data-rf-test-id=\"abp-cityStateZip\"]/span/text()').get(),\n",
    "    'postal_code': address.xpath('.//span/span[@data-rf-test-id=\"abp-cityStateZip\"]/span[@class=\"postal-code\"]/text()').get(),\n",
    "    'region': address.xpath('.//span/span[@data-rf-test-id=\"abp-cityStateZip\"]/span[@class=\"region\"]/text()').get(),\n",
    "    'street': address.xpath('.//span/span/text()').get(),\n",
    "}\n",
    "r"
   ]
  },
  {
   "cell_type": "code",
   "execution_count": 3,
   "id": "operational-increase",
   "metadata": {},
   "outputs": [
    {
     "name": "stdout",
     "output_type": "stream",
     "text": [
      "Ronisha Carson   Redfin Corporation  <span> <span class=\"font-dot\">•</span> <!-- -->Redfin Corporation<!-- --> </span>\n"
     ]
    }
   ],
   "source": [
    "# agent name & company\n",
    "from w3lib.html import remove_tags\n",
    "\n",
    "agent_basic_details = selector.xpath('//div[@class=\"agent-info-item\"]/div/span')\n",
    "name = agent_basic_details.xpath('.//a/text()').get()\n",
    "company = agent_basic_details.xpath('.//span').get()\n",
    "print(name, remove_tags(company).replace('•', ''), company)"
   ]
  },
  {
   "cell_type": "code",
   "execution_count": 4,
   "id": "super-spirituality",
   "metadata": {},
   "outputs": [
    {
     "data": {
      "text/plain": [
       "'2'"
      ]
     },
     "execution_count": 4,
     "metadata": {},
     "output_type": "execute_result"
    }
   ],
   "source": [
    " # Bath\n",
    "selector.xpath('//div[@data-rf-test-id=\"abp-baths\"]/div[@class=\"statsValue\"]/text()').get()"
   ]
  },
  {
   "cell_type": "code",
   "execution_count": 5,
   "id": "annual-kennedy",
   "metadata": {},
   "outputs": [
    {
     "data": {
      "text/plain": [
       "'2'"
      ]
     },
     "execution_count": 5,
     "metadata": {},
     "output_type": "execute_result"
    }
   ],
   "source": [
    "# Beds\n",
    "selector.xpath('//div[@data-rf-test-id=\"abp-beds\"]/div[@class=\"statsValue\"]/text()').get()"
   ]
  },
  {
   "cell_type": "code",
   "execution_count": 6,
   "id": "composite-earthquake",
   "metadata": {},
   "outputs": [
    {
     "data": {
      "text/plain": [
       "'3.0%'"
      ]
     },
     "execution_count": 6,
     "metadata": {},
     "output_type": "execute_result"
    }
   ],
   "source": [
    "# Brokerage Compensation\n",
    "selector.xpath('//span[text()=\"Buyer\\'s Brokerage Compensation\"]/following-sibling::span/text()').get()"
   ]
  },
  {
   "cell_type": "code",
   "execution_count": 7,
   "id": "crazy-clinton",
   "metadata": {},
   "outputs": [
    {
     "data": {
      "text/plain": [
       "'1983'"
      ]
     },
     "execution_count": 7,
     "metadata": {},
     "output_type": "execute_result"
    }
   ],
   "source": [
    "# build date\n",
    "selector.xpath('//span[@data-rf-test-id=\"abp-yearBuilt\"]/span[@class=\"value\"]/text()').get()"
   ]
  },
  {
   "cell_type": "code",
   "execution_count": 8,
   "id": "fuzzy-favorite",
   "metadata": {},
   "outputs": [
    {
     "data": {
      "text/plain": [
       "'This fantastic 2 bedroom, 2 bathroom gem nestled in the gated Walden on Lenox has everything. The fireside family room welcomes you to the home where lots of windows provide openness and natural light. Updated kitchen with lots of cabinets, granite countertops, and stainless appliances. The home also offers a covered balcony, perfect for morning coffee or evening cocktails. Close to everything: the shopping and restaurants of buckhead, Shady Valley Park, Marta Lenox station, and easy access to highways. Excellent community amenities, including a sparkling pool and fitness center. See this one soon, it will not last long. '"
      ]
     },
     "execution_count": 8,
     "metadata": {},
     "output_type": "execute_result"
    }
   ],
   "source": [
    "# description\n",
    "selector.xpath('//div[@data-rf-test-id=\"listingRemarks\"]/p/span/text()').get()"
   ]
  },
  {
   "cell_type": "code",
   "execution_count": 9,
   "id": "pleasant-niger",
   "metadata": {},
   "outputs": [
    {
     "data": {
      "text/plain": [
       "'$1,640'"
      ]
     },
     "execution_count": 9,
     "metadata": {},
     "output_type": "execute_result"
    }
   ],
   "source": [
    "# est. mo payment\n",
    "selector.xpath('//span[text()=\"Est. Mo. Payment\"]/following-sibling::span/text()').get()"
   ]
  },
  {
   "cell_type": "code",
   "execution_count": 10,
   "id": "thorough-metro",
   "metadata": {},
   "outputs": [
    {
     "name": "stdout",
     "output_type": "stream",
     "text": [
      "{'monthly': '$1,640 per month', 'Principal and Interest': '$858', 'Property Taxes': '$162', 'HOA Dues': '$495', \"Homeowners' Insurance\": '$125'}\n"
     ]
    }
   ],
   "source": [
    "# estimated payment & breakdown\n",
    "calc = selector.xpath('//div[@data-rf-test-name=\"mc-summary\"]/div')\n",
    "monthly = calc.xpath('.//p[contains(@class, \"title\")]/text()').get()\n",
    "estimated_payment = {'monthly': monthly}\n",
    "for row in calc.xpath('.//div[contains(@class, \"Row\")]'):\n",
    "    key = row.xpath('.//span/div/span/text()').get()\n",
    "    value = row.xpath('.//span[2]/text()').get()\n",
    "    estimated_payment[key] = value\n",
    "print(estimated_payment)"
   ]
  },
  {
   "cell_type": "code",
   "execution_count": 11,
   "id": "worldwide-facing",
   "metadata": {},
   "outputs": [
    {
     "name": "stdout",
     "output_type": "stream",
     "text": [
      "{'Status': 'Pending', 'Time on Redfin': '15 days', 'Property Type': 'Condo/Co-op', 'HOA Dues': '$495/month', 'Year Built': '1983', 'Style': 'Traditional', 'Community': 'Walden on Lenox', 'Lot Size': '1,437 Sq. Ft.', 'MLS#': '6845921'}\n"
     ]
    }
   ],
   "source": [
    "# home facts\n",
    "hf = {}\n",
    "s = selector.xpath('//div[contains(@class, \"keyDetails--HomeFacts\")]/following-sibling::div')\n",
    "for kvp in s.xpath('.//div[contains(@class, \"keyDetail\")]'):\n",
    "    key = kvp.xpath('.//span/text()').get()\n",
    "    value = kvp.xpath('.//span[2]/text()').get()\n",
    "    hf[key] = value\n",
    "print(hf)"
   ]
  },
  {
   "cell_type": "code",
   "execution_count": 12,
   "id": "swedish-germany",
   "metadata": {},
   "outputs": [
    {
     "data": {
      "text/plain": [
       "'1,437 Sq. Ft.'"
      ]
     },
     "execution_count": 12,
     "metadata": {},
     "output_type": "execute_result"
    }
   ],
   "source": [
    "# lot size\n",
    "selector.xpath('//span[@data-rf-test-id=\"abp-lotSize\"]/span[@class=\"value\"]/text()').get()"
   ]
  },
  {
   "cell_type": "code",
   "execution_count": 117,
   "id": "dietary-means",
   "metadata": {},
   "outputs": [
    {
     "name": "stdout",
     "output_type": "stream",
     "text": [
      "Median List Price $262K\n",
      "Avg. # Offers 1\n",
      "Median $ / Sq. Ft. $175\n",
      "Avg. Down Payment —\n",
      "Median Sale / List 100.0%\n",
      "# Sold Homes 1\n"
     ]
    }
   ],
   "source": [
    "# offer stats\n",
    "_os = {}\n",
    "div_os = selector.xpath('//div[@class=\"offer-stats\"]')\n",
    "for td in div_os.xpath('.//td'):\n",
    "    title = td.xpath('.//span/text()').get()\n",
    "    value = td.xpath('.//span[2]/text()').get()\n",
    "    _os[title] = value\n",
    "print(os)"
   ]
  },
  {
   "cell_type": "code",
   "execution_count": 13,
   "id": "suspected-cancer",
   "metadata": {},
   "outputs": [
    {
     "data": {
      "text/plain": [
       "'259,000'"
      ]
     },
     "execution_count": 13,
     "metadata": {},
     "output_type": "execute_result"
    }
   ],
   "source": [
    "# price\n",
    "selector.xpath('//div[@data-rf-test-id=\"abp-price\"]/div/div/span[2]/text()').get()"
   ]
  },
  {
   "cell_type": "code",
   "execution_count": 14,
   "id": "stopped-accounting",
   "metadata": {},
   "outputs": [
    {
     "data": {
      "text/plain": [
       "'$179 / Sq. Ft.'"
      ]
     },
     "execution_count": 14,
     "metadata": {},
     "output_type": "execute_result"
    }
   ],
   "source": [
    "# price/sqft\n",
    "selector.xpath('//div[@data-rf-test-id=\"abp-sqFt\"]/span/div/text()').get()"
   ]
  },
  {
   "cell_type": "code",
   "execution_count": 15,
   "id": "pregnant-greeting",
   "metadata": {},
   "outputs": [
    {
     "name": "stdout",
     "output_type": "stream",
     "text": [
      "{'Virtual Tour, Parking / Garage, Multi-Unit Information, Homeowners Association': {'Virtual Tour': ['Virtual Tour (External Link)', 'Virtual Tour PP (External Link)'], 'Parking Information': ['Parking Features: Assigned, Parking Lot'], 'Multi-Unit Information': ['# Of Units In Community: 137'], 'Homeowners Association Information': ['Has HOA', 'Association Fee: $495', 'Association Fee Frequency: Monthly', 'Association Fee Includes: Insurance, Maintenance Exterior, Maintenance Grounds, Pest Control, Security, Sewer, Swim/Tennis, Termite, Trash, Water', 'HOA Rent Restrictions']}, 'Interior Features': {'Bedroom Information': ['# of Bedrooms (Main): 2', 'Roomate Floor Plan, Split Bedroom Plan'], 'Bathroom Information': ['# of Baths (Full): 2', '# of Main Baths (Full): 2', 'Master Bath Features: Double Vanity, Shower Only'], 'Fireplace Information': ['# of Fireplaces: 1', 'Gas Starter, Living Room'], 'Heating &amp; Cooling': ['Cooling: Ceiling Fan(s), Central Air', 'Heating: Central, Hot Water, Natural Gas'], 'Room Information': ['Dining Room: Open Concept', 'Kitchen Features: Cabinets White, Eat-in Kitchen, Pantry, Stone Counters, Wine Rack'], 'Interior Features': ['Appliances: Dryer, Electric Oven, Electric Range, Gas Water Heater, Refrigerator, Washer', 'High Speed Internet, Walk-In Closet(s)', 'Laundry: Laundry Room, Main Level']}, 'Exterior Features': {'Building Information': ['Property Condition: Resale', 'Construction Materials: Stucco'], 'Exterior Features': ['Balcony', 'Roof Type: Shingle', 'Pool: In Ground']}, 'School / Neighborhood, Taxes / Assessments, Location Details, Misc. Information': {'School Information': ['Elementary School: Smith', 'Has Elementary School Bus Route', 'Middle School: Sutton', 'Has Middle School Bus Route', 'High School: North Atlanta', 'Has High School Bus Route'], 'Tax Information': ['Tax ID: 17-0007-0007-008-3', 'Assessment Due/Contemplated: No', 'Tax Year: 2020', 'Taxes: $1,948'], 'Location Information': ['Clubhouse, Gated, Homeowners Assoc, Near Marta, Near Shopping, Park, Playground, Pool, Restaurant, Street Lights'], 'Miscellaneous Information': ['Deed Book: 8529', 'Deed Page: 401', 'Section/GMD: 0']}, 'Utilities': {'Utility Information': ['Cable Available, Electricity Available, Natural Gas Available, Phone Available, Sewer Available, Water Available', 'Electric: 110 Volts', 'Public Sewer', 'Water Source: Public'], 'Green Features': ['Green Energy Efficient: Water Heater']}, 'Property / Lot Details': {'Property Features': ['Security Features: Security Gate, Security Lights, Smoke Detector(s)'], 'Property Information': ['Number of Units To Be Built: 0', 'Common Walls: 2+ Common Walls', 'Yes', 'Home Warranty: No', 'Horse Amenities: None', 'Levels/Stories: 1'], 'Lot Information': ['District: 17', 'Acreage Source: Public Records', 'Parcel Number: 17 000700070083', 'Lot: 0', 'Lot Dimensions: 1450', 'Lot Features: Private', 'Asphalt Road', 'Road Type: State Road', 'Waterfront Features: None']}, 'Listing Information': {'Listing Date Information': ['On Market Date: 2021-02-25'], \"Buyer's Brokerage Compensation\": ['3.0%']}, 'Agent & Office Information': {'Listing Agent &amp; Office Information': ['List Agent Full Name: Ronisha Carson', 'List Office Name: Redfin Corporation', 'List Office Phone: 404-800-3623'], 'Selling Agent &amp; Office Information': ['Selling Agent Full Name: Likesha Hayes', 'Selling Office Name: Keller Williams Realty Cityside', 'Selling Office Phone: 770-874-6200'], 'Information for Agents': ['Showing Contact Name: ShowingTime', 'Showing Contact Phone: 000-000-0000', 'Buyer Agency Compensation Type: %']}}\n"
     ]
    }
   ],
   "source": [
    "# property details\n",
    "_pd = {}\n",
    "pd = selector.xpath('//div[@data-rf-test-id=\"propertyDetails\"]')\n",
    "content = pd.xpath('.//div[contains(@class, \"sectionContentContainer\")]')\n",
    "for sgt, sgc in zip(\n",
    "    content.xpath('.//div[@class=\"super-group-title\"]'),\n",
    "    content.xpath('.//div[@class=\"super-group-content\"]')\n",
    "):\n",
    "    title = sgt.xpath('.//text()').get()\n",
    "    _pd[title] = {}\n",
    "    for ag in sgc.xpath('.//div[@class=\"amenity-group\"]'):\n",
    "        amenity_group_title = remove_tags(ag.xpath('.//h3').get())\n",
    "        amenities = [remove_tags(a) for a in ag.xpath('.//li').getall()]\n",
    "        _pd[title][amenity_group_title] = amenities\n",
    "        # print(amenities)\n",
    "print(_pd)"
   ]
  },
  {
   "cell_type": "code",
   "execution_count": 16,
   "id": "received-mathematics",
   "metadata": {},
   "outputs": [
    {
     "name": "stdout",
     "output_type": "stream",
     "text": [
      "{'Beds': '2', 'Baths': '2', 'Finished Sq. Ft.': '1,450', 'Unfinished Sq. Ft.': '—', 'Total Sq. Ft.': '1,450', 'Stories': '1', 'Lot Size': '—', 'Style': 'Condo/Co-op', 'Year Built': '1983', 'Year Renovated': '—', 'County': 'Fulton County', 'APN': '17 000700070083'}\n"
     ]
    }
   ],
   "source": [
    "# public facts\n",
    "_pf = {}\n",
    "div_pr = selector.xpath('//div[@data-rf-test-id=\"publicRecords\"]')\n",
    "for row in div_pr.xpath('.//div[@class=\"table-row\"]'):\n",
    "    key = row.xpath('.//span/text()').get()\n",
    "    value = row.xpath('./div/text()').get()\n",
    "    _pf[key] = value\n",
    "print(_pf)"
   ]
  },
  {
   "cell_type": "code",
   "execution_count": 116,
   "id": "spatial-large",
   "metadata": {},
   "outputs": [
    {
     "name": "stdout",
     "output_type": "stream",
     "text": [
      "Walk Score® 26\n",
      "Transit Score® 44\n",
      "Bike Score® 18\n"
     ]
    }
   ],
   "source": [
    "scores = selector.xpath('//div[@class=\"walk-score\"]')\n",
    "for name, value in zip(\n",
    "    scores.xpath('.//div[contains(@class, \"walkscore-trademark\")]/text()').getall(),\n",
    "    scores.xpath('.//span[contains(@class, \"value\")]/text()').getall()\n",
    "):\n",
    "    print(name, value)"
   ]
  },
  {
   "cell_type": "code",
   "execution_count": 17,
   "id": "specified-stroke",
   "metadata": {},
   "outputs": [
    {
     "data": {
      "text/plain": [
       "'1,450'"
      ]
     },
     "execution_count": 17,
     "metadata": {},
     "output_type": "execute_result"
    }
   ],
   "source": [
    "# Sq. Ft\n",
    "selector.xpath('//div[@data-rf-test-id=\"abp-sqFt\"]/span/span/text()').get()"
   ]
  },
  {
   "cell_type": "code",
   "execution_count": 18,
   "id": "statistical-framing",
   "metadata": {},
   "outputs": [
    {
     "data": {
      "text/plain": [
       "'Pending'"
      ]
     },
     "execution_count": 18,
     "metadata": {},
     "output_type": "execute_result"
    }
   ],
   "source": [
    "# status\n",
    "selector.xpath('//span[text()=\"Status\"]/following-sibling::span/text()').get()"
   ]
  },
  {
   "cell_type": "code",
   "execution_count": 19,
   "id": "undefined-lender",
   "metadata": {},
   "outputs": [
    {
     "data": {
      "text/plain": [
       "'15 days'"
      ]
     },
     "execution_count": 19,
     "metadata": {},
     "output_type": "execute_result"
    }
   ],
   "source": [
    "# time on redfin\n",
    "selector.xpath('//span[text()=\"Time on Redfin\"]/following-sibling::span/text()').get()"
   ]
  }
 ],
 "metadata": {
  "kernelspec": {
   "display_name": "Python 3",
   "language": "python",
   "name": "python3"
  },
  "language_info": {
   "codemirror_mode": {
    "name": "ipython",
    "version": 3
   },
   "file_extension": ".py",
   "mimetype": "text/x-python",
   "name": "python",
   "nbconvert_exporter": "python",
   "pygments_lexer": "ipython3",
   "version": "3.8.1"
  }
 },
 "nbformat": 4,
 "nbformat_minor": 5
}
