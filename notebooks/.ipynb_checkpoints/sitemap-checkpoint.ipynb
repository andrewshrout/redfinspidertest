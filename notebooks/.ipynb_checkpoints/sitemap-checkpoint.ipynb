{
 "cells": [
  {
   "cell_type": "code",
   "execution_count": 2,
   "id": "small-victor",
   "metadata": {},
   "outputs": [],
   "source": [
    "import requests\n",
    "from parsel import Selector\n",
    "\n",
    "\n",
    "headers = {\n",
    "    'User-agent': 'Mozilla/5.0 (Windows NT 10.0; Win64; x64; rv:86.0) Gecko/20100101 Firefox/86.0'\n",
    "}\n",
    "response = requests.get('https://www.redfin.com/sitemap', headers=headers)\n",
    "selector = Selector(response.text)"
   ]
  },
  {
   "cell_type": "code",
   "execution_count": 6,
   "id": "parental-prize",
   "metadata": {},
   "outputs": [
    {
     "name": "stdout",
     "output_type": "stream",
     "text": [
      "<Response [200]>\n",
      "/sitemap/AL\n",
      "/sitemap/AK\n",
      "/sitemap/AZ\n",
      "/sitemap/AR\n",
      "/sitemap/CA\n",
      "/sitemap/CO\n",
      "/sitemap/DC\n",
      "/sitemap/CT\n",
      "/sitemap/DE\n",
      "/sitemap/FL\n",
      "/sitemap/GA\n",
      "/sitemap/HI\n",
      "/sitemap/ID\n",
      "/sitemap/IL\n",
      "/sitemap/IN\n",
      "/sitemap/IA\n",
      "/sitemap/KS\n",
      "/sitemap/KY\n",
      "/sitemap/LA\n",
      "/sitemap/ME\n",
      "/sitemap/MD\n",
      "/sitemap/MA\n",
      "/sitemap/MI\n",
      "/sitemap/MN\n",
      "/sitemap/MS\n",
      "/sitemap/MO\n",
      "/sitemap/NE\n",
      "/sitemap/NV\n",
      "/sitemap/NH\n",
      "/sitemap/NJ\n",
      "/sitemap/NM\n",
      "/sitemap/NY\n",
      "/sitemap/NC\n",
      "/sitemap/OH\n",
      "/sitemap/OK\n",
      "/sitemap/OR\n",
      "/sitemap/PA\n",
      "/sitemap/RI\n",
      "/sitemap/SC\n",
      "/sitemap/TN\n",
      "/sitemap/TX\n",
      "/sitemap/UT\n",
      "/sitemap/VT\n",
      "/sitemap/VA\n",
      "/sitemap/WA\n",
      "/sitemap/WV\n",
      "/sitemap/WI\n"
     ]
    }
   ],
   "source": [
    "selectors = []\n",
    "for link in selector.xpath('//ul[@class=\"list\"]/li/div/a/@href').getall():\n",
    "    #print(link)\n",
    "    response = requests.get(f'https://www.redfin.com/{link}', headers=headers)\n",
    "    selectors.append(Selector(response.text))"
   ]
  }
 ],
 "metadata": {
  "kernelspec": {
   "display_name": "Python 3",
   "language": "python",
   "name": "python3"
  },
  "language_info": {
   "codemirror_mode": {
    "name": "ipython",
    "version": 3
   },
   "file_extension": ".py",
   "mimetype": "text/x-python",
   "name": "python",
   "nbconvert_exporter": "python",
   "pygments_lexer": "ipython3",
   "version": "3.8.1"
  }
 },
 "nbformat": 4,
 "nbformat_minor": 5
}
