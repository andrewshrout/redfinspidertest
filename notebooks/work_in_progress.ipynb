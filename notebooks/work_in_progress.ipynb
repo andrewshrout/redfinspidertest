{
 "cells": [
  {
   "cell_type": "code",
   "execution_count": 7,
   "metadata": {
    "tags": []
   },
   "outputs": [],
   "source": [
    "import requests\n",
    "from parsel import Selector\n",
    "\n",
    "\n",
    "headers = {\n",
    "    'User-agent': 'Mozilla/5.0 (Windows NT 10.0; Win64; x64; rv:86.0) Gecko/20100101 Firefox/86.0'\n",
    "}\n",
    "#response = requests.get('https://www.redfin.com/GA/Atlanta/8-Normandy-Ct-30324/home/24729436', headers=headers)\n",
    "response = requests.get('https://www.redfin.com/GA/Atlanta/8-Normandy-Ct-30324/home/24729436', headers=headers)\n",
    "selector = Selector(response.text)"
   ]
  },
  {
   "cell_type": "code",
   "execution_count": 8,
   "metadata": {},
   "outputs": [
    {
     "output_type": "stream",
     "name": "stdout",
     "text": [
      "None\n"
     ]
    }
   ],
   "source": [
    "# flood risk\n",
    "t = selector.xpath('//div[@class=\"floodPreview\"]/h3/text()').get()\n",
    "print(t)"
   ]
  },
  {
   "cell_type": "markdown",
   "metadata": {},
   "source": [
    "I couldn't find an example for Redfin Estimate yet with an actual estimate.  \n",
    "flood risk / fema zone only randomly load in the browser and don't load at all via python requests.  \n",
    "\n",
    "Concerning \"if possible the contact information of agents at the bottom\":\n",
    "At the moment that doesn't work. The snippet I found trying to get that data is the following:\n",
    "<div class=\"disclaimer\"><div style=\"height:100%\" class=\"lazyload-placeholder\"></div></div>\n",
    "So I guess it's dynamically loaded for whatever reason. \n",
    "Could be solved using a headless browser like Splash, Selenium or Pyppeteer, however that would probably hurt performance significantly. I would only add one of these if it's really necessary."
   ]
  },
  {
   "cell_type": "code",
   "execution_count": 3,
   "metadata": {},
   "outputs": [
    {
     "output_type": "stream",
     "name": "stdout",
     "text": [
      "<div class=\"disclaimer\"><div style=\"height:100%\" class=\"lazyload-placeholder\"></div></div>\n<div class=\"disclaimer\">GreatSchools Ratings provided by <a href=\"http://www.greatschools.org/\" rel=\"nofollow\">GreatSchools.org</a>.</div>\nNone None\n"
     ]
    }
   ],
   "source": [
    "# if possible the contact information of agents at the bottom\n",
    "disclaimer = selector.xpath('//div[@class=\"disclaimer\"]')\n",
    "for d in disclaimer:\n",
    "    print(d.get())\n",
    "listing_company = disclaimer.xpath('.//div[@class=\"listingBroker\"]/text()').get()\n",
    "listing_agent = disclaimer.xpath('.//div[@class=\"listingAgent\"]/text()').get()\n",
    "print(listing_company, listing_agent)"
   ]
  },
  {
   "cell_type": "code",
   "execution_count": 4,
   "metadata": {},
   "outputs": [],
   "source": [
    "\n",
    "for element in selector.xpath('//script[@type=\"application/ld+json\"]'):\n",
    "    pass\n",
    "    # print()\n",
    "    # print(element.xpath('.//text()').get())"
   ]
  },
  {
   "cell_type": "markdown",
   "metadata": {},
   "source": []
  }
 ],
 "metadata": {
  "kernelspec": {
   "name": "python3",
   "display_name": "Python 3.8.1 64-bit",
   "metadata": {
    "interpreter": {
     "hash": "1baa965d5efe3ac65b79dfc60c0d706280b1da80fedb7760faf2759126c4f253"
    }
   }
  },
  "language_info": {
   "codemirror_mode": {
    "name": "ipython",
    "version": 3
   },
   "file_extension": ".py",
   "mimetype": "text/x-python",
   "name": "python",
   "nbconvert_exporter": "python",
   "pygments_lexer": "ipython3",
   "version": "3.8.1-final"
  }
 },
 "nbformat": 4,
 "nbformat_minor": 4
}